{
  "cells": [
    {
      "cell_type": "code",
      "execution_count": 1,
      "metadata": {
        "id": "2Pr-hNx47pl6"
      },
      "outputs": [],
      "source": [
        "import warnings\n",
        "warnings.filterwarnings('ignore')"
      ]
    },
    {
      "cell_type": "markdown",
      "metadata": {
        "id": "YKjVXkOq5RvM"
      },
      "source": [
        "# Where ML Fits into Causal Inference (review)"
      ]
    },
    {
      "cell_type": "markdown",
      "metadata": {
        "id": "8-KSl0ixW31A"
      },
      "source": [
        "[![Open in Colab](https://colab.research.google.com/assets/colab-badge.svg)](https://colab.research.google.com/github/Mixtape-Sessions/Machine-Learning/blob/main/Labs/python/Causal%20via%20Prediction.ipynb)"
      ]
    },
    {
      "cell_type": "markdown",
      "metadata": {
        "id": "fLMqhUEDwRzf"
      },
      "source": [
        "The traditional go-to tool for causal inference is multiple regression:\n",
        "$$\n",
        "Y_i = \\delta D_i + X_i'\\beta+\\varepsilon_i,\n",
        "$$\n",
        "where $D_i$ is the \"treatment\" or causal variable whose effects we are interested in, and $X_i$ is a vector of controls, conditional on which we are willing to assume $D_i$ is as good as randomly assigned.\n",
        "\n",
        "\n",
        "> *example:* Suppose we are interested in the magnitude of racial discrimination in the labor market. One way to conceptualize this is the difference in earnings between two workers who are identical in productivity, but differ in their race, or, the \"effect\" of race. Then $D_i$ would be an indicator for, say, a Black worker. $Y_i$ would be earnings, and $X_i$ would be characteristics that capture determinants of productivity, including educational attainment, cognitive ability, and other background characteristics.\n",
        "\n",
        "Where does machine learning fit into causal inference? It might be tempting to treat\n",
        "this regression as a prediction exercise where we are predicting $Y_{i}$\n",
        "given $D_{i}$ and $X_{i}$. Don't give in to this temptation. We are not\n",
        "after a prediction for $Y_{i}$, we are after a coefficient on $D_{i}$.\n",
        "Modern machine learning algorithms are finely tuned for producing\n",
        "predictions, but along the way they compromise coefficients. So how can we\n",
        "deploy machine learning in the service of estimating the causal coefficient $\\delta $?\n",
        "\n",
        "To see where ML fits in, first remember that an equivalent way to estimate $%\n",
        "\\delta $ is the following three-step procedure:\n",
        "\n",
        "\n",
        "1.   Regress $Y_{i}$ on $X_{i}$ and compute the residuals, $\\tilde{Y}%\n",
        "_{i}=Y_{i}-\\hat{Y}_{i}^{OLS}$, where $\\hat{Y}_{i}^{OLS}=X_{i}^{\\prime\n",
        "}\\left( X^{\\prime }X\\right) ^{-1}X^{\\prime }Y$\n",
        "2.   Regress $D_{i}$ on $X_{i}$ and compute the residuals, $\\tilde{D}%\n",
        "_{i}=D_{i}-\\hat{D}_{i}^{OLS}$, where $\\hat{D}_{i}^{OLS}=X_{i}^{\\prime\n",
        "}\\left( X^{\\prime }X\\right) ^{-1}X^{\\prime }D$\n",
        "\n",
        "3. Regress $\\tilde{Y}_{i}$ on $\\tilde{D}_{i}$."
      ]
    },
    {
      "cell_type": "markdown",
      "metadata": {
        "id": "CGpe2nLBpTjr"
      },
      "source": [
        "Steps 1 and 2 are prediction exercises--ML's wheelhouse. When OLS isn't the right tool for the job, we can replace OLS in those steps with machine learning:\n",
        "\n",
        "1.   Predict $Y_{i}$ based on $X_{i}$ using ML and compute the residuals, $\\tilde{Y}%\n",
        "_{i}=Y_{i}-\\hat{Y}_{i}^{ML}$, where $\\hat{Y}_{i}^{ML}$ is the prediction from an ML algorithm\n",
        "2.   Predict $D_{i}$ based on $X_{i}$ using ML and compute the residuals, $\\tilde{D}%\n",
        "_{i}=D_{i}-\\hat{D}_{i}^{ML}$, where $\\hat{D}_{i}^{ML}$ is the prediction from an ML algorithm\n",
        "\n",
        "3. Regress $\\tilde{Y}_{i}$ on $\\tilde{D}_{i}$.\n",
        "\n",
        "This is the basis for the two major methods we'll look at today: The first is \"Post-Double Selection Lasso\" (Belloni, Chernozhukov, Hansen). The second is \"Double-Debiased Machine Learning\" (Chernozhukov, Chetverikov, Demirer, Duflo, Hansen, Newey, Robins)"
      ]
    },
    {
      "cell_type": "markdown",
      "metadata": {
        "id": "9YNUJiC_pGHK"
      },
      "source": [
        "# Post Double Selection Lasso (PDS Lasso)"
      ]
    },
    {
      "cell_type": "markdown",
      "metadata": {
        "id": "yrGtZGTDbwUN"
      },
      "source": [
        "## Load useful packages: \n",
        "pandas, numpy, linear_model (from sklearn), and KFold (from sklearn.model_selection)\n",
        "\n",
        "Try it yourself first"
      ]
    },
    {
      "cell_type": "code",
      "execution_count": null,
      "metadata": {
        "id": "lSklrnF3swnG"
      },
      "outputs": [],
      "source": []
    },
    {
      "cell_type": "markdown",
      "metadata": {
        "id": "Wg1D6fc7sprb"
      },
      "source": [
        "### Cheat"
      ]
    },
    {
      "cell_type": "code",
      "execution_count": 2,
      "metadata": {
        "id": "uK3RIvwKbwUN"
      },
      "outputs": [],
      "source": [
        "import pandas as pd\n",
        "import numpy as np\n",
        "from sklearn import linear_model\n",
        "from sklearn.model_selection import KFold"
      ]
    },
    {
      "cell_type": "markdown",
      "metadata": {
        "id": "j1aemlN8bwUO"
      },
      "source": [
        "## Read in data and have a look at it\n",
        "We'll use the NLSY data from yesterday\n",
        "\n",
        "Try it yourself"
      ]
    },
    {
      "cell_type": "code",
      "execution_count": null,
      "metadata": {
        "id": "QX8BER-qtIPh"
      },
      "outputs": [],
      "source": []
    },
    {
      "cell_type": "markdown",
      "metadata": {
        "id": "yPXNaDC5tIqx"
      },
      "source": [
        "### Cheat"
      ]
    },
    {
      "cell_type": "code",
      "execution_count": 4,
      "metadata": {
        "id": "7M4VPND9bwUO",
        "colab": {
          "base_uri": "https://localhost:8080/",
          "height": 299
        },
        "outputId": "80ef3425-af09-45c2-f0e7-e650ce12a623"
      },
      "outputs": [
        {
          "output_type": "execute_result",
          "data": {
            "text/plain": [
              "   lnw_2016  educ  black  hispanic  other  exp    afqt  mom_educ  dad_educ  \\\n",
              "0  4.076898    16      0         0      0   11  7.0724        12        12   \n",
              "1  3.294138     9      0         0      0   19  4.7481         9        10   \n",
              "2  2.830896     9      0         1      0   22  1.1987        12         9   \n",
              "3  4.306459    16      0         0      0   13  8.9321        16        18   \n",
              "4  5.991465    16      0         1      0   15  2.2618        16        16   \n",
              "\n",
              "   yhea_100_1997  ...  _XPexp_13  _XPexp_14  _XPexp_16  _XPexp_17  _XPexp_18  \\\n",
              "0              3  ...          0          0          0          0          0   \n",
              "1              2  ...          0          0          0          0          0   \n",
              "2              3  ...          0          0          0          0          0   \n",
              "3              2  ...          1          0          0          0          0   \n",
              "4              1  ...          0          0          0          0          0   \n",
              "\n",
              "   _XPexp_19  _XPexp_20  _XPexp_21  _XPexp_22  _XPexp_23  \n",
              "0          0          0          0          0          0  \n",
              "1          1          0          0          0          0  \n",
              "2          0          0          0          1          0  \n",
              "3          0          0          0          0          0  \n",
              "4          0          0          0          0          0  \n",
              "\n",
              "[5 rows x 994 columns]"
            ],
            "text/html": [
              "\n",
              "  <div id=\"df-af2b3d7d-f916-4a6f-a0a4-e463b9f5c42e\">\n",
              "    <div class=\"colab-df-container\">\n",
              "      <div>\n",
              "<style scoped>\n",
              "    .dataframe tbody tr th:only-of-type {\n",
              "        vertical-align: middle;\n",
              "    }\n",
              "\n",
              "    .dataframe tbody tr th {\n",
              "        vertical-align: top;\n",
              "    }\n",
              "\n",
              "    .dataframe thead th {\n",
              "        text-align: right;\n",
              "    }\n",
              "</style>\n",
              "<table border=\"1\" class=\"dataframe\">\n",
              "  <thead>\n",
              "    <tr style=\"text-align: right;\">\n",
              "      <th></th>\n",
              "      <th>lnw_2016</th>\n",
              "      <th>educ</th>\n",
              "      <th>black</th>\n",
              "      <th>hispanic</th>\n",
              "      <th>other</th>\n",
              "      <th>exp</th>\n",
              "      <th>afqt</th>\n",
              "      <th>mom_educ</th>\n",
              "      <th>dad_educ</th>\n",
              "      <th>yhea_100_1997</th>\n",
              "      <th>...</th>\n",
              "      <th>_XPexp_13</th>\n",
              "      <th>_XPexp_14</th>\n",
              "      <th>_XPexp_16</th>\n",
              "      <th>_XPexp_17</th>\n",
              "      <th>_XPexp_18</th>\n",
              "      <th>_XPexp_19</th>\n",
              "      <th>_XPexp_20</th>\n",
              "      <th>_XPexp_21</th>\n",
              "      <th>_XPexp_22</th>\n",
              "      <th>_XPexp_23</th>\n",
              "    </tr>\n",
              "  </thead>\n",
              "  <tbody>\n",
              "    <tr>\n",
              "      <th>0</th>\n",
              "      <td>4.076898</td>\n",
              "      <td>16</td>\n",
              "      <td>0</td>\n",
              "      <td>0</td>\n",
              "      <td>0</td>\n",
              "      <td>11</td>\n",
              "      <td>7.0724</td>\n",
              "      <td>12</td>\n",
              "      <td>12</td>\n",
              "      <td>3</td>\n",
              "      <td>...</td>\n",
              "      <td>0</td>\n",
              "      <td>0</td>\n",
              "      <td>0</td>\n",
              "      <td>0</td>\n",
              "      <td>0</td>\n",
              "      <td>0</td>\n",
              "      <td>0</td>\n",
              "      <td>0</td>\n",
              "      <td>0</td>\n",
              "      <td>0</td>\n",
              "    </tr>\n",
              "    <tr>\n",
              "      <th>1</th>\n",
              "      <td>3.294138</td>\n",
              "      <td>9</td>\n",
              "      <td>0</td>\n",
              "      <td>0</td>\n",
              "      <td>0</td>\n",
              "      <td>19</td>\n",
              "      <td>4.7481</td>\n",
              "      <td>9</td>\n",
              "      <td>10</td>\n",
              "      <td>2</td>\n",
              "      <td>...</td>\n",
              "      <td>0</td>\n",
              "      <td>0</td>\n",
              "      <td>0</td>\n",
              "      <td>0</td>\n",
              "      <td>0</td>\n",
              "      <td>1</td>\n",
              "      <td>0</td>\n",
              "      <td>0</td>\n",
              "      <td>0</td>\n",
              "      <td>0</td>\n",
              "    </tr>\n",
              "    <tr>\n",
              "      <th>2</th>\n",
              "      <td>2.830896</td>\n",
              "      <td>9</td>\n",
              "      <td>0</td>\n",
              "      <td>1</td>\n",
              "      <td>0</td>\n",
              "      <td>22</td>\n",
              "      <td>1.1987</td>\n",
              "      <td>12</td>\n",
              "      <td>9</td>\n",
              "      <td>3</td>\n",
              "      <td>...</td>\n",
              "      <td>0</td>\n",
              "      <td>0</td>\n",
              "      <td>0</td>\n",
              "      <td>0</td>\n",
              "      <td>0</td>\n",
              "      <td>0</td>\n",
              "      <td>0</td>\n",
              "      <td>0</td>\n",
              "      <td>1</td>\n",
              "      <td>0</td>\n",
              "    </tr>\n",
              "    <tr>\n",
              "      <th>3</th>\n",
              "      <td>4.306459</td>\n",
              "      <td>16</td>\n",
              "      <td>0</td>\n",
              "      <td>0</td>\n",
              "      <td>0</td>\n",
              "      <td>13</td>\n",
              "      <td>8.9321</td>\n",
              "      <td>16</td>\n",
              "      <td>18</td>\n",
              "      <td>2</td>\n",
              "      <td>...</td>\n",
              "      <td>1</td>\n",
              "      <td>0</td>\n",
              "      <td>0</td>\n",
              "      <td>0</td>\n",
              "      <td>0</td>\n",
              "      <td>0</td>\n",
              "      <td>0</td>\n",
              "      <td>0</td>\n",
              "      <td>0</td>\n",
              "      <td>0</td>\n",
              "    </tr>\n",
              "    <tr>\n",
              "      <th>4</th>\n",
              "      <td>5.991465</td>\n",
              "      <td>16</td>\n",
              "      <td>0</td>\n",
              "      <td>1</td>\n",
              "      <td>0</td>\n",
              "      <td>15</td>\n",
              "      <td>2.2618</td>\n",
              "      <td>16</td>\n",
              "      <td>16</td>\n",
              "      <td>1</td>\n",
              "      <td>...</td>\n",
              "      <td>0</td>\n",
              "      <td>0</td>\n",
              "      <td>0</td>\n",
              "      <td>0</td>\n",
              "      <td>0</td>\n",
              "      <td>0</td>\n",
              "      <td>0</td>\n",
              "      <td>0</td>\n",
              "      <td>0</td>\n",
              "      <td>0</td>\n",
              "    </tr>\n",
              "  </tbody>\n",
              "</table>\n",
              "<p>5 rows × 994 columns</p>\n",
              "</div>\n",
              "      <button class=\"colab-df-convert\" onclick=\"convertToInteractive('df-af2b3d7d-f916-4a6f-a0a4-e463b9f5c42e')\"\n",
              "              title=\"Convert this dataframe to an interactive table.\"\n",
              "              style=\"display:none;\">\n",
              "        \n",
              "  <svg xmlns=\"http://www.w3.org/2000/svg\" height=\"24px\"viewBox=\"0 0 24 24\"\n",
              "       width=\"24px\">\n",
              "    <path d=\"M0 0h24v24H0V0z\" fill=\"none\"/>\n",
              "    <path d=\"M18.56 5.44l.94 2.06.94-2.06 2.06-.94-2.06-.94-.94-2.06-.94 2.06-2.06.94zm-11 1L8.5 8.5l.94-2.06 2.06-.94-2.06-.94L8.5 2.5l-.94 2.06-2.06.94zm10 10l.94 2.06.94-2.06 2.06-.94-2.06-.94-.94-2.06-.94 2.06-2.06.94z\"/><path d=\"M17.41 7.96l-1.37-1.37c-.4-.4-.92-.59-1.43-.59-.52 0-1.04.2-1.43.59L10.3 9.45l-7.72 7.72c-.78.78-.78 2.05 0 2.83L4 21.41c.39.39.9.59 1.41.59.51 0 1.02-.2 1.41-.59l7.78-7.78 2.81-2.81c.8-.78.8-2.07 0-2.86zM5.41 20L4 18.59l7.72-7.72 1.47 1.35L5.41 20z\"/>\n",
              "  </svg>\n",
              "      </button>\n",
              "      \n",
              "  <style>\n",
              "    .colab-df-container {\n",
              "      display:flex;\n",
              "      flex-wrap:wrap;\n",
              "      gap: 12px;\n",
              "    }\n",
              "\n",
              "    .colab-df-convert {\n",
              "      background-color: #E8F0FE;\n",
              "      border: none;\n",
              "      border-radius: 50%;\n",
              "      cursor: pointer;\n",
              "      display: none;\n",
              "      fill: #1967D2;\n",
              "      height: 32px;\n",
              "      padding: 0 0 0 0;\n",
              "      width: 32px;\n",
              "    }\n",
              "\n",
              "    .colab-df-convert:hover {\n",
              "      background-color: #E2EBFA;\n",
              "      box-shadow: 0px 1px 2px rgba(60, 64, 67, 0.3), 0px 1px 3px 1px rgba(60, 64, 67, 0.15);\n",
              "      fill: #174EA6;\n",
              "    }\n",
              "\n",
              "    [theme=dark] .colab-df-convert {\n",
              "      background-color: #3B4455;\n",
              "      fill: #D2E3FC;\n",
              "    }\n",
              "\n",
              "    [theme=dark] .colab-df-convert:hover {\n",
              "      background-color: #434B5C;\n",
              "      box-shadow: 0px 1px 3px 1px rgba(0, 0, 0, 0.15);\n",
              "      filter: drop-shadow(0px 1px 2px rgba(0, 0, 0, 0.3));\n",
              "      fill: #FFFFFF;\n",
              "    }\n",
              "  </style>\n",
              "\n",
              "      <script>\n",
              "        const buttonEl =\n",
              "          document.querySelector('#df-af2b3d7d-f916-4a6f-a0a4-e463b9f5c42e button.colab-df-convert');\n",
              "        buttonEl.style.display =\n",
              "          google.colab.kernel.accessAllowed ? 'block' : 'none';\n",
              "\n",
              "        async function convertToInteractive(key) {\n",
              "          const element = document.querySelector('#df-af2b3d7d-f916-4a6f-a0a4-e463b9f5c42e');\n",
              "          const dataTable =\n",
              "            await google.colab.kernel.invokeFunction('convertToInteractive',\n",
              "                                                     [key], {});\n",
              "          if (!dataTable) return;\n",
              "\n",
              "          const docLinkHtml = 'Like what you see? Visit the ' +\n",
              "            '<a target=\"_blank\" href=https://colab.research.google.com/notebooks/data_table.ipynb>data table notebook</a>'\n",
              "            + ' to learn more about interactive tables.';\n",
              "          element.innerHTML = '';\n",
              "          dataTable['output_type'] = 'display_data';\n",
              "          await google.colab.output.renderOutput(dataTable, element);\n",
              "          const docLink = document.createElement('div');\n",
              "          docLink.innerHTML = docLinkHtml;\n",
              "          element.appendChild(docLink);\n",
              "        }\n",
              "      </script>\n",
              "    </div>\n",
              "  </div>\n",
              "  "
            ]
          },
          "metadata": {},
          "execution_count": 4
        }
      ],
      "source": [
        "nlsy=pd.read_csv('https://github.com/Mixtape-Sessions/Machine-Learning/blob/main/Labs/data/nlsy97.csv?raw=true')\n",
        "nlsy.head()"
      ]
    },
    {
      "cell_type": "markdown",
      "metadata": {
        "id": "zTkTBC_GbwUO"
      },
      "source": [
        "## Define outcome, regressor of interest\n",
        "y = lnw_2016\n",
        "\n",
        "d = black \n",
        "\n",
        "Try it yourself:"
      ]
    },
    {
      "cell_type": "code",
      "execution_count": null,
      "metadata": {
        "id": "iEDF-ieJt8r6"
      },
      "outputs": [],
      "source": []
    },
    {
      "cell_type": "markdown",
      "metadata": {
        "id": "GorEJmAdt9y6"
      },
      "source": [
        "### Cheat"
      ]
    },
    {
      "cell_type": "code",
      "execution_count": 5,
      "metadata": {
        "id": "K9yDNfWbbwUO"
      },
      "outputs": [],
      "source": [
        "y=nlsy['lnw_2016']\n",
        "d=nlsy[['black']]\n",
        "# double [[]]: use d as right hand var, linear model package like rhv be multiple columns, so use it this way to make sure it's a 2-d array"
      ]
    },
    {
      "cell_type": "markdown",
      "metadata": {
        "id": "QiITTR5XfOPB"
      },
      "source": [
        "## Simple Regression with no Controls\n",
        "Regress y on d and print out coefficient\n",
        "Try it yourself"
      ]
    },
    {
      "cell_type": "code",
      "execution_count": null,
      "metadata": {
        "id": "6LOBDO9nulyf"
      },
      "outputs": [],
      "source": [
        "# instantiate and fit a linear regression object\n",
        "\n",
        "# print out regression coefficient\n"
      ]
    },
    {
      "cell_type": "markdown",
      "metadata": {
        "id": "-flkjNb1umRv"
      },
      "source": [
        "### Cheat"
      ]
    },
    {
      "cell_type": "code",
      "execution_count": 6,
      "metadata": {
        "id": "lawwWrR0bwUO",
        "colab": {
          "base_uri": "https://localhost:8080/"
        },
        "outputId": "088005da-1bc8-403a-8847-368334f91131"
      },
      "outputs": [
        {
          "output_type": "stream",
          "name": "stdout",
          "text": [
            "Simple regression race gap: -0.382\n"
          ]
        }
      ],
      "source": [
        "lm=linear_model.LinearRegression().fit(d,y)\n",
        "print(\"Simple regression race gap: {:.3f}\".format(lm.coef_[0]))\n",
        "# no weight var this time \n",
        "# this coef can be biased, and it caputure eff from other \n",
        "# “take a black and a white worker who match on the included covariates. The black worker on average has a 30% lower wage on average”"
      ]
    },
    {
      "cell_type": "code",
      "source": [],
      "metadata": {
        "id": "EGQ2Uu0w9QL1"
      },
      "execution_count": 12,
      "outputs": []
    },
    {
      "cell_type": "markdown",
      "metadata": {
        "id": "10ZQ5f0Q5c-X"
      },
      "source": [
        "### ...\n",
        "Is this the effect we're looking for? \n",
        "\n",
        "Let's try a regression where we control for a few things: education (linearly), experience (linearly), and cognitive ability (afqt, linearly).\n",
        "\n",
        "Try it yourself!"
      ]
    },
    {
      "cell_type": "code",
      "execution_count": null,
      "metadata": {
        "id": "wNHm2Mwg52RK"
      },
      "outputs": [],
      "source": [
        "# define X, matrix of the d and the controls we want\n",
        "\n",
        "# run regression\n",
        "\n",
        "# print out coefficient\n"
      ]
    },
    {
      "cell_type": "markdown",
      "metadata": {
        "id": "4Jf3kS226D9G"
      },
      "source": [
        "### Cheat"
      ]
    },
    {
      "cell_type": "code",
      "execution_count": 7,
      "metadata": {
        "id": "kLO-WdCR6FtP",
        "colab": {
          "base_uri": "https://localhost:8080/"
        },
        "outputId": "cab43655-a9d1-4754-c545-1d1fdfd8675e"
      },
      "outputs": [
        {
          "output_type": "stream",
          "name": "stdout",
          "text": [
            "Multiple regression-adjusted race gap: -0.262\n"
          ]
        }
      ],
      "source": [
        "# define RHS, matrix of the d and the controls we want\n",
        "RHS=nlsy[['black','educ','exp','afqt']]\n",
        "# run regression\n",
        "lm.fit(RHS,y)\n",
        "# print out coefficient\n",
        "print(\"Multiple regression-adjusted race gap: {:.3f}\".format(lm.coef_[0]))\n",
        "\n"
      ]
    },
    {
      "cell_type": "markdown",
      "metadata": {
        "id": "XwwdXTfI6sRS"
      },
      "source": [
        "\n",
        "###...\n",
        "How does it compare to the simple regression? \n",
        "\n",
        "But who is to say the controls we included are sufficient? We have a whole host (hundred!) of other potential controls, not to mention that perhaps the controls we did put in enter linearly. This is a job for ML!\n",
        "\n",
        "To prep, let's define a matrix X with all of our potential controls:"
      ]
    },
    {
      "cell_type": "code",
      "execution_count": 13,
      "metadata": {
        "id": "8pcdH08j7M-f"
      },
      "outputs": [],
      "source": [
        "X=nlsy.drop(columns=['lnw_2016','black']) #990+metrics"
      ]
    },
    {
      "cell_type": "markdown",
      "metadata": {
        "id": "FyLr9G2BbwUP"
      },
      "source": [
        "## Post Double Selection Lasso"
      ]
    },
    {
      "cell_type": "markdown",
      "metadata": {
        "id": "GV680gb4fH9J"
      },
      "source": [
        "### Step 1: Lasso the outcome on X\n",
        "Try it yourself. Don't forget to standard Xs, or choose the normalize=True option"
      ]
    },
    {
      "cell_type": "code",
      "execution_count": null,
      "metadata": {
        "id": "Vrw7Jp9NvRob"
      },
      "outputs": [],
      "source": []
    },
    {
      "cell_type": "markdown",
      "metadata": {
        "id": "7XBPxADbvSQx"
      },
      "source": [
        "#### Cheat"
      ]
    },
    {
      "cell_type": "code",
      "execution_count": 17,
      "metadata": {
        "id": "utBluzYMbwUP"
      },
      "outputs": [],
      "source": [
        "lassoy = linear_model.LassoCV(max_iter=1000,normalize=True).fit(X, y)\n",
        "# suggest to use lassoCV\n",
        "# does the option normalize=True, make sure that dummies are not standardized?\n",
        "# It standize everything, but doesn't hurt to sd dummy"
      ]
    },
    {
      "cell_type": "markdown",
      "metadata": {
        "id": "ayb8h1TabwUP"
      },
      "source": [
        "### Step 2: Lasso the treatment on X\n",
        "Try it yourself"
      ]
    },
    {
      "cell_type": "code",
      "execution_count": null,
      "metadata": {
        "id": "H1jSm4SivZ9x"
      },
      "outputs": [],
      "source": []
    },
    {
      "cell_type": "markdown",
      "metadata": {
        "id": "y74HbxclvaZM"
      },
      "source": [
        "#### Cheat"
      ]
    },
    {
      "cell_type": "code",
      "execution_count": 15,
      "metadata": {
        "id": "a8TQIG_MbwUP"
      },
      "outputs": [],
      "source": [
        "lassod = linear_model.LassoCV(max_iter=1000,normalize=True).fit(X, d)"
      ]
    },
    {
      "cell_type": "markdown",
      "metadata": {
        "id": "YRT_TCtZbwUP"
      },
      "source": [
        "### Step 3: Form the union of controls\n",
        "Try it yourself"
      ]
    },
    {
      "cell_type": "code",
      "execution_count": null,
      "metadata": {
        "id": "ILtNuVVxvpon"
      },
      "outputs": [],
      "source": []
    },
    {
      "cell_type": "markdown",
      "metadata": {
        "id": "91aP0B-AvqB2"
      },
      "source": [
        "#### Cheat"
      ]
    },
    {
      "cell_type": "code",
      "execution_count": 18,
      "metadata": {
        "id": "Soyb1kuFbwUP",
        "colab": {
          "base_uri": "https://localhost:8080/",
          "height": 299
        },
        "outputId": "faa509b5-da84-4f1c-a6c4-14c408e3e8d0"
      },
      "outputs": [
        {
          "output_type": "execute_result",
          "data": {
            "text/plain": [
              "   educ  hispanic  other    afqt  mom_educ  yhea_2200_1997  \\\n",
              "0    16         0      0  7.0724        12              98   \n",
              "1     9         0      0  4.7481         9             140   \n",
              "2     9         1      0  1.1987        12             185   \n",
              "3    16         0      0  8.9321        16             140   \n",
              "4    16         1      0  2.2618        16             145   \n",
              "\n",
              "   youth_bothbio_01_1997  p4_001_1997  p5_102_1997  \\\n",
              "0                      1            2           -4   \n",
              "1                      1            1           -4   \n",
              "2                      1            3           -4   \n",
              "3                      1            2           -4   \n",
              "4                      1            2           -4   \n",
              "\n",
              "   cv_bio_mom_age_child1_1997  ...  _BGhfp_adhr_16  _BGhfp_adpe_2  \\\n",
              "0                          31  ...               0              1   \n",
              "1                          25  ...               0              1   \n",
              "2                          30  ...               0              0   \n",
              "3                          25  ...               0              1   \n",
              "4                          24  ...               0              0   \n",
              "\n",
              "   _BGhfp_adpe_9  _BGhfp_adpe_11  _BGhfp_aden_4  _BGhp5_101__4  _BGhcvc_govo2  \\\n",
              "0              0               0              1              0              0   \n",
              "1              0               0              1              0              0   \n",
              "2              0               0              0              0              0   \n",
              "3              0               0              0              0              0   \n",
              "4              0               0              0              0              0   \n",
              "\n",
              "   _BGhcvc_govp5  _BGhcvc_govp6  _XPexp_17  \n",
              "0              0              0          0  \n",
              "1              0              0          0  \n",
              "2              0              0          0  \n",
              "3              0              0          0  \n",
              "4              0              0          0  \n",
              "\n",
              "[5 rows x 140 columns]"
            ],
            "text/html": [
              "\n",
              "  <div id=\"df-b4b59e93-dd41-4e64-af8e-5d9c0125a86e\">\n",
              "    <div class=\"colab-df-container\">\n",
              "      <div>\n",
              "<style scoped>\n",
              "    .dataframe tbody tr th:only-of-type {\n",
              "        vertical-align: middle;\n",
              "    }\n",
              "\n",
              "    .dataframe tbody tr th {\n",
              "        vertical-align: top;\n",
              "    }\n",
              "\n",
              "    .dataframe thead th {\n",
              "        text-align: right;\n",
              "    }\n",
              "</style>\n",
              "<table border=\"1\" class=\"dataframe\">\n",
              "  <thead>\n",
              "    <tr style=\"text-align: right;\">\n",
              "      <th></th>\n",
              "      <th>educ</th>\n",
              "      <th>hispanic</th>\n",
              "      <th>other</th>\n",
              "      <th>afqt</th>\n",
              "      <th>mom_educ</th>\n",
              "      <th>yhea_2200_1997</th>\n",
              "      <th>youth_bothbio_01_1997</th>\n",
              "      <th>p4_001_1997</th>\n",
              "      <th>p5_102_1997</th>\n",
              "      <th>cv_bio_mom_age_child1_1997</th>\n",
              "      <th>...</th>\n",
              "      <th>_BGhfp_adhr_16</th>\n",
              "      <th>_BGhfp_adpe_2</th>\n",
              "      <th>_BGhfp_adpe_9</th>\n",
              "      <th>_BGhfp_adpe_11</th>\n",
              "      <th>_BGhfp_aden_4</th>\n",
              "      <th>_BGhp5_101__4</th>\n",
              "      <th>_BGhcvc_govo2</th>\n",
              "      <th>_BGhcvc_govp5</th>\n",
              "      <th>_BGhcvc_govp6</th>\n",
              "      <th>_XPexp_17</th>\n",
              "    </tr>\n",
              "  </thead>\n",
              "  <tbody>\n",
              "    <tr>\n",
              "      <th>0</th>\n",
              "      <td>16</td>\n",
              "      <td>0</td>\n",
              "      <td>0</td>\n",
              "      <td>7.0724</td>\n",
              "      <td>12</td>\n",
              "      <td>98</td>\n",
              "      <td>1</td>\n",
              "      <td>2</td>\n",
              "      <td>-4</td>\n",
              "      <td>31</td>\n",
              "      <td>...</td>\n",
              "      <td>0</td>\n",
              "      <td>1</td>\n",
              "      <td>0</td>\n",
              "      <td>0</td>\n",
              "      <td>1</td>\n",
              "      <td>0</td>\n",
              "      <td>0</td>\n",
              "      <td>0</td>\n",
              "      <td>0</td>\n",
              "      <td>0</td>\n",
              "    </tr>\n",
              "    <tr>\n",
              "      <th>1</th>\n",
              "      <td>9</td>\n",
              "      <td>0</td>\n",
              "      <td>0</td>\n",
              "      <td>4.7481</td>\n",
              "      <td>9</td>\n",
              "      <td>140</td>\n",
              "      <td>1</td>\n",
              "      <td>1</td>\n",
              "      <td>-4</td>\n",
              "      <td>25</td>\n",
              "      <td>...</td>\n",
              "      <td>0</td>\n",
              "      <td>1</td>\n",
              "      <td>0</td>\n",
              "      <td>0</td>\n",
              "      <td>1</td>\n",
              "      <td>0</td>\n",
              "      <td>0</td>\n",
              "      <td>0</td>\n",
              "      <td>0</td>\n",
              "      <td>0</td>\n",
              "    </tr>\n",
              "    <tr>\n",
              "      <th>2</th>\n",
              "      <td>9</td>\n",
              "      <td>1</td>\n",
              "      <td>0</td>\n",
              "      <td>1.1987</td>\n",
              "      <td>12</td>\n",
              "      <td>185</td>\n",
              "      <td>1</td>\n",
              "      <td>3</td>\n",
              "      <td>-4</td>\n",
              "      <td>30</td>\n",
              "      <td>...</td>\n",
              "      <td>0</td>\n",
              "      <td>0</td>\n",
              "      <td>0</td>\n",
              "      <td>0</td>\n",
              "      <td>0</td>\n",
              "      <td>0</td>\n",
              "      <td>0</td>\n",
              "      <td>0</td>\n",
              "      <td>0</td>\n",
              "      <td>0</td>\n",
              "    </tr>\n",
              "    <tr>\n",
              "      <th>3</th>\n",
              "      <td>16</td>\n",
              "      <td>0</td>\n",
              "      <td>0</td>\n",
              "      <td>8.9321</td>\n",
              "      <td>16</td>\n",
              "      <td>140</td>\n",
              "      <td>1</td>\n",
              "      <td>2</td>\n",
              "      <td>-4</td>\n",
              "      <td>25</td>\n",
              "      <td>...</td>\n",
              "      <td>0</td>\n",
              "      <td>1</td>\n",
              "      <td>0</td>\n",
              "      <td>0</td>\n",
              "      <td>0</td>\n",
              "      <td>0</td>\n",
              "      <td>0</td>\n",
              "      <td>0</td>\n",
              "      <td>0</td>\n",
              "      <td>0</td>\n",
              "    </tr>\n",
              "    <tr>\n",
              "      <th>4</th>\n",
              "      <td>16</td>\n",
              "      <td>1</td>\n",
              "      <td>0</td>\n",
              "      <td>2.2618</td>\n",
              "      <td>16</td>\n",
              "      <td>145</td>\n",
              "      <td>1</td>\n",
              "      <td>2</td>\n",
              "      <td>-4</td>\n",
              "      <td>24</td>\n",
              "      <td>...</td>\n",
              "      <td>0</td>\n",
              "      <td>0</td>\n",
              "      <td>0</td>\n",
              "      <td>0</td>\n",
              "      <td>0</td>\n",
              "      <td>0</td>\n",
              "      <td>0</td>\n",
              "      <td>0</td>\n",
              "      <td>0</td>\n",
              "      <td>0</td>\n",
              "    </tr>\n",
              "  </tbody>\n",
              "</table>\n",
              "<p>5 rows × 140 columns</p>\n",
              "</div>\n",
              "      <button class=\"colab-df-convert\" onclick=\"convertToInteractive('df-b4b59e93-dd41-4e64-af8e-5d9c0125a86e')\"\n",
              "              title=\"Convert this dataframe to an interactive table.\"\n",
              "              style=\"display:none;\">\n",
              "        \n",
              "  <svg xmlns=\"http://www.w3.org/2000/svg\" height=\"24px\"viewBox=\"0 0 24 24\"\n",
              "       width=\"24px\">\n",
              "    <path d=\"M0 0h24v24H0V0z\" fill=\"none\"/>\n",
              "    <path d=\"M18.56 5.44l.94 2.06.94-2.06 2.06-.94-2.06-.94-.94-2.06-.94 2.06-2.06.94zm-11 1L8.5 8.5l.94-2.06 2.06-.94-2.06-.94L8.5 2.5l-.94 2.06-2.06.94zm10 10l.94 2.06.94-2.06 2.06-.94-2.06-.94-.94-2.06-.94 2.06-2.06.94z\"/><path d=\"M17.41 7.96l-1.37-1.37c-.4-.4-.92-.59-1.43-.59-.52 0-1.04.2-1.43.59L10.3 9.45l-7.72 7.72c-.78.78-.78 2.05 0 2.83L4 21.41c.39.39.9.59 1.41.59.51 0 1.02-.2 1.41-.59l7.78-7.78 2.81-2.81c.8-.78.8-2.07 0-2.86zM5.41 20L4 18.59l7.72-7.72 1.47 1.35L5.41 20z\"/>\n",
              "  </svg>\n",
              "      </button>\n",
              "      \n",
              "  <style>\n",
              "    .colab-df-container {\n",
              "      display:flex;\n",
              "      flex-wrap:wrap;\n",
              "      gap: 12px;\n",
              "    }\n",
              "\n",
              "    .colab-df-convert {\n",
              "      background-color: #E8F0FE;\n",
              "      border: none;\n",
              "      border-radius: 50%;\n",
              "      cursor: pointer;\n",
              "      display: none;\n",
              "      fill: #1967D2;\n",
              "      height: 32px;\n",
              "      padding: 0 0 0 0;\n",
              "      width: 32px;\n",
              "    }\n",
              "\n",
              "    .colab-df-convert:hover {\n",
              "      background-color: #E2EBFA;\n",
              "      box-shadow: 0px 1px 2px rgba(60, 64, 67, 0.3), 0px 1px 3px 1px rgba(60, 64, 67, 0.15);\n",
              "      fill: #174EA6;\n",
              "    }\n",
              "\n",
              "    [theme=dark] .colab-df-convert {\n",
              "      background-color: #3B4455;\n",
              "      fill: #D2E3FC;\n",
              "    }\n",
              "\n",
              "    [theme=dark] .colab-df-convert:hover {\n",
              "      background-color: #434B5C;\n",
              "      box-shadow: 0px 1px 3px 1px rgba(0, 0, 0, 0.15);\n",
              "      filter: drop-shadow(0px 1px 2px rgba(0, 0, 0, 0.3));\n",
              "      fill: #FFFFFF;\n",
              "    }\n",
              "  </style>\n",
              "\n",
              "      <script>\n",
              "        const buttonEl =\n",
              "          document.querySelector('#df-b4b59e93-dd41-4e64-af8e-5d9c0125a86e button.colab-df-convert');\n",
              "        buttonEl.style.display =\n",
              "          google.colab.kernel.accessAllowed ? 'block' : 'none';\n",
              "\n",
              "        async function convertToInteractive(key) {\n",
              "          const element = document.querySelector('#df-b4b59e93-dd41-4e64-af8e-5d9c0125a86e');\n",
              "          const dataTable =\n",
              "            await google.colab.kernel.invokeFunction('convertToInteractive',\n",
              "                                                     [key], {});\n",
              "          if (!dataTable) return;\n",
              "\n",
              "          const docLinkHtml = 'Like what you see? Visit the ' +\n",
              "            '<a target=\"_blank\" href=https://colab.research.google.com/notebooks/data_table.ipynb>data table notebook</a>'\n",
              "            + ' to learn more about interactive tables.';\n",
              "          element.innerHTML = '';\n",
              "          dataTable['output_type'] = 'display_data';\n",
              "          await google.colab.output.renderOutput(dataTable, element);\n",
              "          const docLink = document.createElement('div');\n",
              "          docLink.innerHTML = docLinkHtml;\n",
              "          element.appendChild(docLink);\n",
              "        }\n",
              "      </script>\n",
              "    </div>\n",
              "  </div>\n",
              "  "
            ]
          },
          "metadata": {},
          "execution_count": 18
        }
      ],
      "source": [
        "Xunion=X.iloc[:,(lassod.coef_!=0) + (lassoy.coef_!=0)]\n",
        "Xunion.head()\n",
        "# still 140 col left "
      ]
    },
    {
      "cell_type": "markdown",
      "metadata": {
        "id": "1Anw8-QibwUP"
      },
      "source": [
        "### Concatenate treatment with union of controls and regress y on that and print out estimate\n",
        "Try yourself"
      ]
    },
    {
      "cell_type": "code",
      "execution_count": null,
      "metadata": {
        "id": "nr7yq0ysv83g"
      },
      "outputs": [],
      "source": []
    },
    {
      "cell_type": "markdown",
      "metadata": {
        "id": "Tm4vZXN-v9Ou"
      },
      "source": [
        "#### Cheat"
      ]
    },
    {
      "cell_type": "code",
      "execution_count": 19,
      "metadata": {
        "id": "gm3RT7ObbwUP",
        "colab": {
          "base_uri": "https://localhost:8080/"
        },
        "outputId": "8fe14770-f9e2-48a8-aacd-c329a95fcfff"
      },
      "outputs": [
        {
          "output_type": "stream",
          "name": "stdout",
          "text": [
            "PDS regression earnings race gap: -0.241\n"
          ]
        }
      ],
      "source": [
        "rhs=pd.concat([d,Xunion],axis=1)\n",
        "fullreg=linear_model.LinearRegression().fit(rhs,y)\n",
        "print(\"PDS regression earnings race gap: {:.3f}\".format(fullreg.coef_[0]))"
      ]
    },
    {
      "cell_type": "code",
      "source": [
        "fullreg.coef_"
      ],
      "metadata": {
        "colab": {
          "base_uri": "https://localhost:8080/"
        },
        "id": "Q-0dvZ0oC3rD",
        "outputId": "31326ecf-5657-414c-b674-10eab4393e8c"
      },
      "execution_count": 20,
      "outputs": [
        {
          "output_type": "execute_result",
          "data": {
            "text/plain": [
              "array([-2.40520978e-01,  4.98855055e-02,  8.17051403e-02, -4.56643011e-01,\n",
              "        3.25440278e-02,  1.01995008e-02,  3.77727358e-04,  9.66040700e-03,\n",
              "       -5.69312550e-02, -7.15002435e-02, -5.75509880e-04,  3.27448071e-02,\n",
              "        5.05991440e-02, -6.68905959e-03, -7.93863999e-03,  1.61881837e-02,\n",
              "        6.29131732e-05,  2.53627744e-02, -9.05469024e-02, -1.57353080e-01,\n",
              "       -5.64430209e-02, -1.04324184e-01,  1.12901258e-01,  9.36311023e-02,\n",
              "       -7.19750864e-02,  1.92422285e+00,  2.09626566e-02,  7.18486745e-01,\n",
              "        5.97413830e-01, -1.00485453e-01,  1.52595946e-01, -5.56416928e-01,\n",
              "        2.23738531e-01,  3.90683214e-01, -8.40008196e-01,  2.11646595e-01,\n",
              "        1.82951909e-01,  1.83960780e-01, -7.91449296e-01, -2.20633235e-01,\n",
              "       -4.56269685e-02,  1.78921558e-01,  3.02650864e-02, -9.68284460e-02,\n",
              "       -8.34538159e-01, -4.71071125e-01,  5.07431467e-01,  1.13386100e-02,\n",
              "       -1.91700003e-01,  5.29223419e-02, -1.55579023e-01,  5.58497821e-03,\n",
              "       -2.25848104e-01,  8.41861096e-02, -2.34592420e-01, -1.59360633e-01,\n",
              "       -1.42814996e-01,  2.52688837e-01, -3.27603449e-01, -4.22538913e-01,\n",
              "       -7.84815733e-01, -3.18652843e-01, -1.34661862e-01,  1.70620270e-01,\n",
              "        9.66696899e-02,  2.81509906e-02,  7.87005717e-03, -2.27816175e-02,\n",
              "        7.66914680e-02, -6.07159621e-02,  6.15988292e-02, -7.73095378e-02,\n",
              "       -2.76806538e-01,  2.74588033e-02, -3.71650491e-01,  5.16703340e-01,\n",
              "        2.61501354e-01,  5.25137178e-03,  5.05309091e-02,  8.31564104e-02,\n",
              "        7.60350471e-02,  4.35414081e-02,  7.66860445e-03, -1.18725660e-01,\n",
              "        1.51084443e-01, -5.36218339e-02, -9.66040702e-03, -3.15095456e+00,\n",
              "       -3.95721879e-01, -1.59607440e-01, -1.66022433e-01, -4.04314530e-02,\n",
              "        6.59744892e-03, -7.78176497e-02, -6.62654709e-02, -2.81665094e-01,\n",
              "        4.39596694e+00,  1.25981856e+00, -2.71907443e-01, -1.70928845e-02,\n",
              "       -3.23012539e+00, -8.03055791e-01,  5.28494928e-01,  5.57580527e-01,\n",
              "        3.86337422e-02,  3.92027910e-01, -6.58802120e-02,  3.16570858e+00,\n",
              "       -4.52642893e-02, -4.93517755e-02, -6.58802120e-02, -9.06978979e-02,\n",
              "        4.17362743e-01, -1.21337820e-01, -7.09904763e-02, -3.48358227e-02,\n",
              "       -1.40844242e-01, -2.20633235e-01, -3.06657665e-01,  1.83005023e-01,\n",
              "        4.84660564e-03,  2.71121570e-02, -3.57499439e-02,  1.68882113e-02,\n",
              "        1.31121097e-02,  8.44901554e-03, -8.31936328e-02, -1.08640076e-01,\n",
              "        5.00297133e-01, -5.10065027e-02, -2.98518420e-02, -1.61929364e-01,\n",
              "        7.27848874e-02, -2.89020815e-01, -9.30742972e-02,  8.06047817e-02,\n",
              "       -4.64190519e-03,  2.03380166e-01, -8.45888318e-01, -9.14561593e-01,\n",
              "        1.46275783e-02])"
            ]
          },
          "metadata": {},
          "execution_count": 20
        }
      ]
    },
    {
      "cell_type": "code",
      "source": [
        "# pds lasso vs simple ols\n",
        "# no st.err here, -0.24 might not sig diff from the above -0.26\n",
        "# most labor economists use the simple way, usually good enough\n",
        "#  lasso: reassure about robutness \n",
        "#  implimentation "
      ],
      "metadata": {
        "id": "SEN3m9jFC_uU"
      },
      "execution_count": null,
      "outputs": []
    },
    {
      "cell_type": "markdown",
      "metadata": {
        "id": "-ub3mDLFbwUP"
      },
      "source": [
        "## Double-Debiased Machine Learning\n",
        "For simplicity, we will first do it without sample splitting\n",
        "# don't have to use the same method of two steps"
      ]
    },
    {
      "cell_type": "markdown",
      "metadata": {
        "id": "LfsIjhZLjRSc"
      },
      "source": [
        "### Step 1: Ridge outcome on Xs, get residuals\n",
        "Try yourself"
      ]
    },
    {
      "cell_type": "code",
      "execution_count": null,
      "metadata": {
        "id": "yfbKeMvywfZr"
      },
      "outputs": [],
      "source": []
    },
    {
      "cell_type": "markdown",
      "metadata": {
        "id": "iLEeasnUwft7"
      },
      "source": [
        "#### Cheat"
      ]
    },
    {
      "cell_type": "code",
      "execution_count": 21,
      "metadata": {
        "id": "Da9pdvv1leOC"
      },
      "outputs": [],
      "source": [
        "ridgey = linear_model.RidgeCV(normalize=True).fit(X, y)\n",
        "yresid=y-ridgey.predict(X)"
      ]
    },
    {
      "cell_type": "markdown",
      "metadata": {
        "id": "njrC3DP7l83X"
      },
      "source": [
        "### Step 2: Ridge treatment on Xs, get residuals\n",
        "Try yourself"
      ]
    },
    {
      "cell_type": "code",
      "execution_count": null,
      "metadata": {
        "id": "-n19zD9iwmOq"
      },
      "outputs": [],
      "source": []
    },
    {
      "cell_type": "markdown",
      "metadata": {
        "id": "P2-anrDxwp9l"
      },
      "source": [
        "#### Cheat"
      ]
    },
    {
      "cell_type": "code",
      "execution_count": 22,
      "metadata": {
        "id": "Wkcwyi8ImBNa"
      },
      "outputs": [],
      "source": [
        "ridged = linear_model.RidgeCV(normalize=True).fit(X, d)\n",
        "dresid=d-ridged.predict(X)"
      ]
    },
    {
      "cell_type": "markdown",
      "metadata": {
        "id": "938Uw1dXmKop"
      },
      "source": [
        "### Step 3: Regress y resids on d resids and print out estimate\n",
        "Try yourself"
      ]
    },
    {
      "cell_type": "code",
      "execution_count": null,
      "metadata": {
        "id": "H1g-x_9DwwUl"
      },
      "outputs": [],
      "source": []
    },
    {
      "cell_type": "markdown",
      "metadata": {
        "id": "aqbex0fqwxIy"
      },
      "source": [
        "#### Cheat"
      ]
    },
    {
      "cell_type": "code",
      "execution_count": 23,
      "metadata": {
        "id": "cp1OX-LwmPUL",
        "colab": {
          "base_uri": "https://localhost:8080/"
        },
        "outputId": "1221ce14-f909-43f3-b25f-5690fe14907a"
      },
      "outputs": [
        {
          "output_type": "stream",
          "name": "stdout",
          "text": [
            "DML regression earnings race gap: -0.290\n"
          ]
        }
      ],
      "source": [
        "dmlreg=linear_model.LinearRegression().fit(dresid,yresid)\n",
        "print(\"DML regression earnings race gap: {:.3f}\".format(dmlreg.coef_[0]))\n",
        "# above method, residuals for each observation "
      ]
    },
    {
      "cell_type": "markdown",
      "metadata": {
        "id": "ea6hN-cTmY_U"
      },
      "source": [
        "### The real thing: with sample splitting"
      ]
    },
    {
      "cell_type": "code",
      "execution_count": 24,
      "metadata": {
        "id": "CUaFlxFQmp1d",
        "colab": {
          "base_uri": "https://localhost:8080/"
        },
        "outputId": "e7280e9c-e126-4213-9f97-06858d5d0dbe"
      },
      "outputs": [
        {
          "output_type": "stream",
          "name": "stdout",
          "text": [
            "DML regression earnings race gap: -0.246\n"
          ]
        }
      ],
      "source": [
        "# create our sample splitting \"object\", randomely choose samples \n",
        "# if cross-section, use random \n",
        "kf = KFold(n_splits=5,shuffle=True,random_state=42)\n",
        "\n",
        "# apply the splits to our Xs\n",
        "kf.get_n_splits(X)\n",
        "\n",
        "# initialize columns for residuals\n",
        "yresid = y*0\n",
        "dresid = d*0\n",
        "\n",
        "# Now loop through each fold\n",
        "ii=0\n",
        "for train_index, test_index in kf.split(X):\n",
        "  X_train, X_test = X.iloc[train_index,:], X.iloc[test_index,:]\n",
        "  y_train, y_test = y.iloc[train_index], y.iloc[test_index]\n",
        "  d_train, d_test = d.iloc[train_index,:], d.iloc[test_index,:]\n",
        "  \n",
        "  # Do DML thing\n",
        "  # Ridge y on training folds:\n",
        "  ridgey.fit(X_train, y_train)\n",
        "\n",
        "  # but get residuals in test set\n",
        "  yresid.iloc[test_index]=y_test-ridgey.predict(X_test)\n",
        "  \n",
        "  #Ridge d on training folds\n",
        "  ridged.fit(X_train, d_train)\n",
        "\n",
        "  #but get residuals in test set\n",
        "  dresid.iloc[test_index,:]=d_test-ridged.predict(X_test)\n",
        "\n",
        " \n",
        "# Regress resids\n",
        "dmlreg=linear_model.LinearRegression().fit(dresid,yresid)\n",
        "\n",
        "print(\"DML regression earnings race gap: {:.3f}\".format(dmlreg.coef_[0]))"
      ]
    },
    {
      "cell_type": "markdown",
      "metadata": {
        "id": "L91ckWu5CD3L"
      },
      "source": [
        "You want standard errors, do you?"
      ]
    },
    {
      "cell_type": "code",
      "execution_count": 25,
      "metadata": {
        "id": "DK0VmmtqBBk7",
        "colab": {
          "base_uri": "https://localhost:8080/"
        },
        "outputId": "f792e9ac-2063-47b8-a22e-2bec1f96e512"
      },
      "outputs": [
        {
          "output_type": "stream",
          "name": "stdout",
          "text": [
            "                            OLS Regression Results                            \n",
            "==============================================================================\n",
            "Dep. Variable:               lnw_2016   R-squared:                       0.009\n",
            "Model:                            OLS   Adj. R-squared:                  0.009\n",
            "Method:                 Least Squares   F-statistic:                     10.32\n",
            "Date:                Sat, 25 Feb 2023   Prob (F-statistic):            0.00135\n",
            "Time:                        01:35:02   Log-Likelihood:                -1567.6\n",
            "No. Observations:                1266   AIC:                             3139.\n",
            "Df Residuals:                    1264   BIC:                             3149.\n",
            "Df Model:                           1                                         \n",
            "Covariance Type:                  HC3                                         \n",
            "==============================================================================\n",
            "                 coef    std err          z      P>|z|      [0.025      0.975]\n",
            "------------------------------------------------------------------------------\n",
            "const         -0.0008      0.024     -0.033      0.974      -0.047       0.045\n",
            "black         -0.2462      0.077     -3.213      0.001      -0.396      -0.096\n",
            "==============================================================================\n",
            "Omnibus:                      206.275   Durbin-Watson:                   1.675\n",
            "Prob(Omnibus):                  0.000   Jarque-Bera (JB):             2239.274\n",
            "Skew:                           0.383   Prob(JB):                         0.00\n",
            "Kurtosis:                       9.470   Cond. No.                         3.05\n",
            "==============================================================================\n",
            "\n",
            "Notes:\n",
            "[1] Standard Errors are heteroscedasticity robust (HC3)\n"
          ]
        }
      ],
      "source": [
        "import statsmodels.api as sm\n",
        "rhs = sm.add_constant(dresid)\n",
        "model = sm.OLS(yresid, rhs)\n",
        "results = model.fit(cov_type='HC3')\n",
        "print(results.summary())"
      ]
    },
    {
      "cell_type": "markdown",
      "metadata": {
        "id": "5j0INc4lqc2d"
      },
      "source": [
        "## Now do DML using Random Forest!"
      ]
    },
    {
      "cell_type": "code",
      "execution_count": null,
      "metadata": {
        "id": "izctK-2dxxpv"
      },
      "outputs": [],
      "source": []
    }
  ],
  "metadata": {
    "colab": {
      "collapsed_sections": [
        "Wg1D6fc7sprb",
        "yPXNaDC5tIqx",
        "GorEJmAdt9y6",
        "-flkjNb1umRv",
        "4Jf3kS226D9G",
        "7XBPxADbvSQx",
        "y74HbxclvaZM",
        "91aP0B-AvqB2",
        "Tm4vZXN-v9Ou",
        "iLEeasnUwft7",
        "P2-anrDxwp9l",
        "aqbex0fqwxIy"
      ],
      "provenance": []
    },
    "kernelspec": {
      "display_name": "Python 3.10.8 64-bit",
      "language": "python",
      "name": "python3"
    },
    "language_info": {
      "codemirror_mode": {
        "name": "ipython",
        "version": 3
      },
      "file_extension": ".py",
      "mimetype": "text/x-python",
      "name": "python",
      "nbconvert_exporter": "python",
      "pygments_lexer": "ipython3",
      "version": "3.10.8"
    },
    "vscode": {
      "interpreter": {
        "hash": "b0fa6594d8f4cbf19f97940f81e996739fb7646882a419484c72d19e05852a7e"
      }
    }
  },
  "nbformat": 4,
  "nbformat_minor": 0
}